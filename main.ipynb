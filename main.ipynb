{
 "cells": [
  {
   "attachments": {},
   "cell_type": "markdown",
   "metadata": {},
   "source": [
    "Title: MCQ TF FITB GENERATOR     \n",
    "Author: Raikibul Hasan"
   ]
  },
  {
   "cell_type": "markdown",
   "metadata": {},
   "source": [
    "**Table of contents**<a id='toc0_'></a>    \n",
    "- [Preparation](#toc1_)    \n",
    "    - [Install libraries](#toc1_1_1_)    \n",
    "    - [Import libraries](#toc1_1_2_)    \n",
    "    - [Load/Insert Article/file](#toc1_1_3_)    \n",
    "- [MCQ GENERATE](#toc2_)    \n",
    "    - [Extract keyword using PKE](#toc2_1_1_)    \n",
    "    - [Split the article into an array/list of individual sentences](#toc2_1_2_)    \n",
    "    - [Map the sentences which contain the keywords](#toc2_1_3_)    \n",
    "    - [Get the sense of the word](#toc2_1_4_)    \n",
    "    - [first distractor generate from WordNet](#toc2_1_5_)    \n",
    "    - [Second distractor generator](#toc2_1_6_)    \n",
    "    - [Find and map the distractors to the keywords](#toc2_1_7_)    \n",
    "    - [Show generates MCQ](#toc2_1_8_)    \n",
    "\n",
    "<!-- vscode-jupyter-toc-config\n",
    "\tnumbering=false\n",
    "\tanchor=true\n",
    "\tflat=false\n",
    "\tminLevel=1\n",
    "\tmaxLevel=6\n",
    "\t/vscode-jupyter-toc-config -->\n",
    "<!-- THIS CELL WILL BE REPLACED ON TOC UPDATE. DO NOT WRITE YOUR TEXT IN THIS CELL -->"
   ]
  },
  {
   "cell_type": "markdown",
   "metadata": {},
   "source": [
    "# <a id='toc1_'></a>[Preparation](#toc0_)\n",
    "In this section, we will import the necessary libraries and dataset."
   ]
  },
  {
   "cell_type": "markdown",
   "metadata": {},
   "source": [
    "### <a id='toc1_1_1_'></a>[Install libraries](#toc0_)\n",
    "***If you have installed  library once skip it otherwise make installed varibale false and run***"
   ]
  },
  {
   "cell_type": "code",
   "execution_count": 66,
   "metadata": {},
   "outputs": [],
   "source": [
    "installed = True\n"
   ]
  },
  {
   "cell_type": "code",
   "execution_count": 67,
   "metadata": {},
   "outputs": [],
   "source": [
    "def install_library():\n",
    "    !pip install flashtext\n",
    "    !pip install pywsd\n",
    "    !pip install string\n",
    "    !pip install nltk\n",
    "    !pip install spacy\n",
    "    !pip install git+https: // github.com/boudinfl/pke.git\n",
    "    !pip install matplotlib\n",
    "    !python - m spacy download en_core_web_sm\n",
    "    !pip install ipywidgets\n",
    "\n",
    "\n",
    "if not installed:\n",
    "    install_library()\n"
   ]
  },
  {
   "cell_type": "markdown",
   "metadata": {},
   "source": [
    "### <a id='toc1_1_2_'></a>[Import libraries](#toc0_)"
   ]
  },
  {
   "cell_type": "code",
   "execution_count": 68,
   "metadata": {},
   "outputs": [
    {
     "name": "stderr",
     "output_type": "stream",
     "text": [
      "[nltk_data] Downloading package stopwords to C:\\Users\\Raikibul\n",
      "[nltk_data]     Hasan\\AppData\\Roaming\\nltk_data...\n",
      "[nltk_data]   Package stopwords is already up-to-date!\n",
      "[nltk_data] Downloading package punkt to C:\\Users\\Raikibul\n",
      "[nltk_data]     Hasan\\AppData\\Roaming\\nltk_data...\n",
      "[nltk_data]   Package punkt is already up-to-date!\n",
      "[nltk_data] Downloading collection 'popular'\n",
      "[nltk_data]    | \n",
      "[nltk_data]    | Downloading package cmudict to C:\\Users\\Raikibul\n",
      "[nltk_data]    |     Hasan\\AppData\\Roaming\\nltk_data...\n",
      "[nltk_data]    |   Package cmudict is already up-to-date!\n",
      "[nltk_data]    | Downloading package gazetteers to C:\\Users\\Raikibul\n",
      "[nltk_data]    |     Hasan\\AppData\\Roaming\\nltk_data...\n",
      "[nltk_data]    |   Package gazetteers is already up-to-date!\n",
      "[nltk_data]    | Downloading package genesis to C:\\Users\\Raikibul\n",
      "[nltk_data]    |     Hasan\\AppData\\Roaming\\nltk_data...\n",
      "[nltk_data]    |   Package genesis is already up-to-date!\n",
      "[nltk_data]    | Downloading package gutenberg to C:\\Users\\Raikibul\n",
      "[nltk_data]    |     Hasan\\AppData\\Roaming\\nltk_data...\n",
      "[nltk_data]    |   Package gutenberg is already up-to-date!\n",
      "[nltk_data]    | Downloading package inaugural to C:\\Users\\Raikibul\n",
      "[nltk_data]    |     Hasan\\AppData\\Roaming\\nltk_data...\n",
      "[nltk_data]    |   Package inaugural is already up-to-date!\n",
      "[nltk_data]    | Downloading package movie_reviews to\n",
      "[nltk_data]    |     C:\\Users\\Raikibul\n",
      "[nltk_data]    |     Hasan\\AppData\\Roaming\\nltk_data...\n",
      "[nltk_data]    |   Package movie_reviews is already up-to-date!\n",
      "[nltk_data]    | Downloading package names to C:\\Users\\Raikibul\n",
      "[nltk_data]    |     Hasan\\AppData\\Roaming\\nltk_data...\n",
      "[nltk_data]    |   Package names is already up-to-date!\n",
      "[nltk_data]    | Downloading package shakespeare to C:\\Users\\Raikibul\n",
      "[nltk_data]    |     Hasan\\AppData\\Roaming\\nltk_data...\n",
      "[nltk_data]    |   Package shakespeare is already up-to-date!\n",
      "[nltk_data]    | Downloading package stopwords to C:\\Users\\Raikibul\n",
      "[nltk_data]    |     Hasan\\AppData\\Roaming\\nltk_data...\n",
      "[nltk_data]    |   Package stopwords is already up-to-date!\n",
      "[nltk_data]    | Downloading package treebank to C:\\Users\\Raikibul\n",
      "[nltk_data]    |     Hasan\\AppData\\Roaming\\nltk_data...\n",
      "[nltk_data]    |   Package treebank is already up-to-date!\n",
      "[nltk_data]    | Downloading package twitter_samples to\n",
      "[nltk_data]    |     C:\\Users\\Raikibul\n",
      "[nltk_data]    |     Hasan\\AppData\\Roaming\\nltk_data...\n",
      "[nltk_data]    |   Package twitter_samples is already up-to-date!\n",
      "[nltk_data]    | Downloading package omw to C:\\Users\\Raikibul\n",
      "[nltk_data]    |     Hasan\\AppData\\Roaming\\nltk_data...\n",
      "[nltk_data]    |   Package omw is already up-to-date!\n",
      "[nltk_data]    | Downloading package omw-1.4 to C:\\Users\\Raikibul\n",
      "[nltk_data]    |     Hasan\\AppData\\Roaming\\nltk_data...\n",
      "[nltk_data]    |   Package omw-1.4 is already up-to-date!\n",
      "[nltk_data]    | Downloading package wordnet to C:\\Users\\Raikibul\n",
      "[nltk_data]    |     Hasan\\AppData\\Roaming\\nltk_data...\n",
      "[nltk_data]    |   Package wordnet is already up-to-date!\n",
      "[nltk_data]    | Downloading package wordnet2021 to C:\\Users\\Raikibul\n",
      "[nltk_data]    |     Hasan\\AppData\\Roaming\\nltk_data...\n",
      "[nltk_data]    |   Package wordnet2021 is already up-to-date!\n",
      "[nltk_data]    | Downloading package wordnet31 to C:\\Users\\Raikibul\n",
      "[nltk_data]    |     Hasan\\AppData\\Roaming\\nltk_data...\n",
      "[nltk_data]    |   Package wordnet31 is already up-to-date!\n",
      "[nltk_data]    | Downloading package wordnet_ic to C:\\Users\\Raikibul\n",
      "[nltk_data]    |     Hasan\\AppData\\Roaming\\nltk_data...\n",
      "[nltk_data]    |   Package wordnet_ic is already up-to-date!\n",
      "[nltk_data]    | Downloading package words to C:\\Users\\Raikibul\n",
      "[nltk_data]    |     Hasan\\AppData\\Roaming\\nltk_data...\n",
      "[nltk_data]    |   Package words is already up-to-date!\n",
      "[nltk_data]    | Downloading package maxent_ne_chunker to\n",
      "[nltk_data]    |     C:\\Users\\Raikibul\n",
      "[nltk_data]    |     Hasan\\AppData\\Roaming\\nltk_data...\n",
      "[nltk_data]    |   Package maxent_ne_chunker is already up-to-date!\n",
      "[nltk_data]    | Downloading package punkt to C:\\Users\\Raikibul\n",
      "[nltk_data]    |     Hasan\\AppData\\Roaming\\nltk_data...\n",
      "[nltk_data]    |   Package punkt is already up-to-date!\n",
      "[nltk_data]    | Downloading package snowball_data to\n",
      "[nltk_data]    |     C:\\Users\\Raikibul\n",
      "[nltk_data]    |     Hasan\\AppData\\Roaming\\nltk_data...\n",
      "[nltk_data]    |   Package snowball_data is already up-to-date!\n",
      "[nltk_data]    | Downloading package averaged_perceptron_tagger to\n",
      "[nltk_data]    |     C:\\Users\\Raikibul\n",
      "[nltk_data]    |     Hasan\\AppData\\Roaming\\nltk_data...\n",
      "[nltk_data]    |   Package averaged_perceptron_tagger is already up-\n",
      "[nltk_data]    |       to-date!\n",
      "[nltk_data]    | \n",
      "[nltk_data]  Done downloading collection popular\n"
     ]
    }
   ],
   "source": [
    "import warnings\n",
    "import ipywidgets as widgets\n",
    "import os\n",
    "import random\n",
    "import re\n",
    "import json\n",
    "import requests\n",
    "from nltk.corpus import wordnet as wn\n",
    "from pywsd.lesk import cosine_lesk\n",
    "from pywsd.lesk import simple_lesk\n",
    "from pywsd.lesk import adapted_lesk\n",
    "from pywsd.similarity import max_similarity\n",
    "from flashtext import KeywordProcessor\n",
    "from nltk.tokenize import sent_tokenize\n",
    "from nltk.corpus import stopwords\n",
    "import nltk\n",
    "import pke\n",
    "import string\n",
    "nltk.download('stopwords')\n",
    "nltk.download('punkt')\n",
    "nltk.download('popular')\n",
    "# File system manangement\n",
    "# Suppress warnings\n",
    "warnings.filterwarnings('ignore')\n"
   ]
  },
  {
   "cell_type": "markdown",
   "metadata": {},
   "source": [
    "### <a id='toc1_1_3_'></a>[Load/Insert Article/file](#toc0_)\n",
    "For generating MCQ you need to load text file or you can also copy any article and paste here.    </br>\n",
    "</br> \n",
    "***Choose an option for Load Article***\n"
   ]
  },
  {
   "cell_type": "code",
   "execution_count": 69,
   "metadata": {},
   "outputs": [
    {
     "data": {
      "application/vnd.jupyter.widget-view+json": {
       "model_id": "4dcd000615e448009a5823850710156c",
       "version_major": 2,
       "version_minor": 0
      },
      "text/plain": [
       "RadioButtons(description='Choose a option for Load Article:', options=('example', 'fileupload', 'instert-text'…"
      ]
     },
     "metadata": {},
     "output_type": "display_data"
    }
   ],
   "source": [
    "loadsetting = widgets.RadioButtons(\n",
    "    options=['example', 'fileupload', 'instert-text'],\n",
    "    value='example',  # Defaults to 'pineapple'\n",
    "    # layout={'width': 'max-content'}, # If the items' names are long\n",
    "    description='Choose a option for Load Article:',\n",
    "    disabled=False\n",
    ")\n",
    "loadsetting\n"
   ]
  },
  {
   "cell_type": "code",
   "execution_count": 70,
   "metadata": {},
   "outputs": [
    {
     "data": {
      "text/plain": [
       "<_io.TextIOWrapper name='stody.txt' mode='r' encoding='cp1252'>"
      ]
     },
     "execution_count": 70,
     "metadata": {},
     "output_type": "execute_result"
    }
   ],
   "source": [
    "if loadsetting.value == 'example':\n",
    "\n",
    "    file = open(\"stody.txt\", \"r\")  # \"r\" deontes read version open\n",
    "    text = file.read()\n",
    "\n",
    "elif loadsetting.value == 'instert-text':\n",
    "    # defining some widgets\n",
    "    file = widgets.Textarea(value='',\n",
    "                            description='Article/text', )\n",
    "else:\n",
    "    file = widgets.FileUpload(\n",
    "        accept='',  # Accepted file extension e.g. '.txt',\n",
    "        multiple=False  # True to accept multiple files upload else False\n",
    "    )\n",
    "    text = file.value\n",
    "file\n"
   ]
  },
  {
   "cell_type": "markdown",
   "metadata": {},
   "source": [
    "# <a id='toc2_'></a>[MCQ GENERATE](#toc0_)"
   ]
  },
  {
   "cell_type": "markdown",
   "metadata": {},
   "source": [
    "### <a id='toc2_1_1_'></a>[Extract keyword using PKE](#toc0_)"
   ]
  },
  {
   "cell_type": "code",
   "execution_count": 71,
   "metadata": {},
   "outputs": [
    {
     "name": "stdout",
     "output_type": "stream",
     "text": [
      "['computer', 'ibm', 'bios', 'windows', 'interface manager', 'alu', 'minicomputers', 'latin', 'cpu', 'ms office', 'midrange computers', 'software', 'pdas', 'ram', 'fun facts', 'industrial revolution']\n"
     ]
    }
   ],
   "source": [
    "def getImportantWords(art):\n",
    "    # Using the Multipartite Unsupervised Extractor as our extractor\n",
    "    extractor = pke.unsupervised.MultipartiteRank()\n",
    "    extractor.load_document(input=art, language='en')\n",
    "    # We are only considering proper nouns as valid candidates for our keywords\n",
    "    pos = {'PROPN'}\n",
    "    # Stoplist contains the words to be avoided\n",
    "    stops = list(string.punctuation)\n",
    "    # These stand for the brackets as in lrb=left round bracket=\"(\" and so on\n",
    "    stops += ['-lrb-', '-rrb-', '-lcb-', '-rcb-', '-lsb-', '-rsb-']\n",
    "    stops += stopwords.words('english')\n",
    "    # Sets the candidate selection criteria, as in, which should be considered and which should be avoided\n",
    "    extractor.candidate_selection(pos=pos)\n",
    "    extractor.candidate_weighting()  # Sets the preference criteria for the candidates\n",
    "    result = []\n",
    "    # Gets the 25 best candidates according to the criteria set\n",
    "    ex = extractor.get_n_best(n=25)\n",
    "    for each in ex:\n",
    "        result.append(each[0])\n",
    "    return result\n",
    "\n",
    "\n",
    "# Get the important words (keywords) from the text article using the above function\n",
    "impWords = getImportantWords(text)\n",
    "print(impWords)\n"
   ]
  },
  {
   "cell_type": "markdown",
   "metadata": {},
   "source": [
    "### <a id='toc2_1_2_'></a>[Split the article into an array/list of individual sentences](#toc0_)"
   ]
  },
  {
   "cell_type": "code",
   "execution_count": 72,
   "metadata": {},
   "outputs": [
    {
     "name": "stdout",
     "output_type": "stream",
     "text": [
      "['The term computer was once used to refer to a person who did computation, unlike today.', 'The development of early prototypes that led to the modern computer is credited to many individuals throughout history.', 'A series of breakthroughs, beginning with transistor computers and then integrated circuit computers, resulted in the development of transistor technology and the integrated circuit chip, causing digital computers to largely replace analogue computers.', 'A computer is an electronic tool that manipulates data or information.', 'It can store, retrieve, and process information.', 'We can type documents, send emails, play games, and browse the Web using a computer.', 'It can also be used to edit spreadsheets, presentations, and even videos, or create them.', 'Early computers were conceived only as devices for calculating.', 'Simple manual devices such as the abacus have helped individuals do calculations since ancient times.', 'Some mechanical devices were built early in the Industrial Revolution to automate long, tedious tasks, such as guiding patterns for looms.', 'In the early 20th century, more sophisticated electrical machines performed specialized analogue calculations.', 'All those parts of a computer that are tangible physical objects are covered under the term hardware.', 'The hardware includes circuits, computer chips, graphics cards, sound cards, memory (RAM), motherboards, displays, power supplies, cables, keyboards, printers and \"mice\" input devices.', 'There are five main hardware components: \\nThese are devices that are used to enter data/information in the central processing unit.', 'Example- keyboard, mouse, scanner, document reader, barcode reader, optical character reader, magnetic reader etc.', 'These are devices that provide the processed data/information into human-readable form.', 'Example- monitor, printer, speaker, projector etc.', 'The control unit handles the various components of the computer; it reads and interprets (decodes) the instructions for the program, transforming them into control signals that activate other computer parts.', 'It is capable of performing arithmetical and logical functions.', 'The set of arithmetic operations supported by a specific ALU may be restricted to addition and subtraction or may include functions of multiplication, division, trigonometries such as sine, cosine, etc., and square roots.', 'The ALU, control unit and registers and together called the CPU.', \"It is sometimes called the computer's brain, and its job is to perform commands.\", 'We send instructions to the CPU whenever we press a key, click the mouse, or start an application.', 'Software refers to computer parts, such as programs, data, protocols, etc., that do not have a material form.', 'In contrast to the physical hardware from which the system is built, the software is that portion of a computer system consisting of encoded information or computer instructions.', 'It is sometimes called \"firmware\" when the software is stored in hardware that can not be easily modified, such as with a BIOS ROM on an IBM PC compatible computer.', 'Computer hardware and software require each other, and neither of them can be realistically used on their own.', 'There are four main components of a general-purpose computer: the arithmetic logic unit (ALU), the control unit, the memory, and the I/O (collectively called input and output) devices.', 'Computers are used in various fields, such as homes, businesses, government offices, research organizations, educational institutions, medicine, entertainment, etc.', 'because of their features and powerful functions.', 'They have taken sectors and companies to a whole new level.', 'Computers are best suited for the collection, analysis, categorization, and storage of data in science, research and engineering.', 'They also help scientists to exchange data both internally and internationally with each other.', 'Computers in the government sector are used to perform various functions and improve their services.', \"In most cases, data processing tasks, the maintenance of citizens' databases, and the promotion of a paperless environment are the primary purposes of using computers.\", \"In addition to this, computers play a key role in the country's defence system.\", 'They are used to preserve information, records, live patient monitoring, X-rays, and more from patients.', 'Computers assist in setting up laboratory tools, monitoring heart rate and blood pressure, etc.', 'Besides, computers allow physicians to easily exchange patient data with other medical specialists.', 'They help people get different educational materials (such as images, videos, e-books, etc.)', 'Also, computers are best suited for online classes, online tutoring, online exams, and task and project creation.', 'Also, they can be used to maintain and track student performance and other data.', 'Most countries use online banking systems so that customers can access their data directly.', 'People can verify the balance of their account, transfer cash, and pay online bills, including credit cards.', 'Besides, banks use computers to execute transactions and store client information, transaction records, etc.', \"A computer's a programmable device that accepts raw data(input) and processes it as output with a group of instructions (a program) to supply the result.\", 'It renders output after performing mathematical and logical operations and can save the output for future use.', 'The word \"computer\" derives from the word \"computare\" in Latin, which means calculating.', 'Computers are of different types based on different criteria.', 'Based on their size, computers are of five types:\\nIt is a single-user computer that has less capacity for speed and storage than the other types.', 'For a CPU, it uses a microprocessor.', 'Laptops, desktop computers, personal digital assistants (PDAs), tablets, and smartphones are common examples of microcomputers.', 'Microcomputers are generally designed and built for general use, such as browsing, information search, the internet, MS Office, social media, etc.', 'Minicomputers are also referred to as \"Midrange Computers.\"', 'They are multi-user computers designed to simultaneously support multiple users.', 'Therefore, they are generally used by small companies and firms.', 'It is also a multi-user computer that large companies and government organizations use to run their business operations as large amounts of data can be stored and processed.', 'Banks, universities, and insurance companies, for example, use mainframe computers to store data from their customers, students, and policyholders.', 'Among all types of computers, supercomputers are the fastest and most costly computers.', 'They have an enormous capacity for storage and computing speeds and can therefore perform millions of instructions per second.', 'It is a single-user computer with a comparatively more powerful microprocessor and a high-quality monitor compared to a mini-computer.', 'It increases productivity.', 'It helps in connecting to the internet.', 'It helps in organizing data and information.', 'It allows storing large amounts of data.', 'Fun Facts About Computers\\nThe first electric computer that was invented weighed around 27 tons or even more than that and took up to 1800 square feet.', 'There are about 5000 new viruses that are released every month.', 'The original name of Windows was Interface Manager.', 'It is surely known that the life of humans would not have been so easy if computers were not a part of human life.', 'This is also supported by a lot of pieces of evidence where we can even see in daily life how the computer is not just present in an organization but is also available right in the pockets of everyone.', \"Thus, the computer has surely made it easy while also spoiling a lot of people's lives.\"]\n"
     ]
    }
   ],
   "source": [
    "def splitTextToSents(art):\n",
    "    s = [sent_tokenize(art)]\n",
    "    s = [y for x in s for y in x]\n",
    "    # Removes all the sentences that have length less than 15 so that we can ensure that our questions have enough length for context\n",
    "    s = [sent.strip() for sent in s if len(sent) > 15]\n",
    "    return s\n",
    "\n",
    "\n",
    "# Achieve a well splitted set of sentences from the text article\n",
    "sents = splitTextToSents(text)\n",
    "print(sents)\n"
   ]
  },
  {
   "cell_type": "markdown",
   "metadata": {},
   "source": [
    "### <a id='toc2_1_3_'></a>[Map the sentences which contain the keywords](#toc0_)"
   ]
  },
  {
   "cell_type": "code",
   "execution_count": 73,
   "metadata": {},
   "outputs": [
    {
     "name": "stdout",
     "output_type": "stream",
     "text": [
      "{'computer': ['The control unit handles the various components of the computer; it reads and interprets (decodes) the instructions for the program, transforming them into control signals that activate other computer parts.', 'The control unit handles the various components of the computer; it reads and interprets (decodes) the instructions for the program, transforming them into control signals that activate other computer parts.', 'This is also supported by a lot of pieces of evidence where we can even see in daily life how the computer is not just present in an organization but is also available right in the pockets of everyone.', 'The hardware includes circuits, computer chips, graphics cards, sound cards, memory (RAM), motherboards, displays, power supplies, cables, keyboards, printers and \"mice\" input devices.', 'There are four main components of a general-purpose computer: the arithmetic logic unit (ALU), the control unit, the memory, and the I/O (collectively called input and output) devices.', 'In contrast to the physical hardware from which the system is built, the software is that portion of a computer system consisting of encoded information or computer instructions.', 'In contrast to the physical hardware from which the system is built, the software is that portion of a computer system consisting of encoded information or computer instructions.', 'It is also a multi-user computer that large companies and government organizations use to run their business operations as large amounts of data can be stored and processed.', 'It is sometimes called \"firmware\" when the software is stored in hardware that can not be easily modified, such as with a BIOS ROM on an IBM PC compatible computer.', \"A computer's a programmable device that accepts raw data(input) and processes it as output with a group of instructions (a program) to supply the result.\", 'Fun Facts About Computers\\nThe first electric computer that was invented weighed around 27 tons or even more than that and took up to 1800 square feet.', 'Based on their size, computers are of five types:\\nIt is a single-user computer that has less capacity for speed and storage than the other types.', 'It is a single-user computer with a comparatively more powerful microprocessor and a high-quality monitor compared to a mini-computer.', 'It is a single-user computer with a comparatively more powerful microprocessor and a high-quality monitor compared to a mini-computer.', 'The development of early prototypes that led to the modern computer is credited to many individuals throughout history.', 'Computer hardware and software require each other, and neither of them can be realistically used on their own.', 'Software refers to computer parts, such as programs, data, protocols, etc., that do not have a material form.', 'All those parts of a computer that are tangible physical objects are covered under the term hardware.', 'The word \"computer\" derives from the word \"computare\" in Latin, which means calculating.', 'The term computer was once used to refer to a person who did computation, unlike today.', \"Thus, the computer has surely made it easy while also spoiling a lot of people's lives.\", 'We can type documents, send emails, play games, and browse the Web using a computer.', \"It is sometimes called the computer's brain, and its job is to perform commands.\", 'A computer is an electronic tool that manipulates data or information.'], 'ibm': ['It is sometimes called \"firmware\" when the software is stored in hardware that can not be easily modified, such as with a BIOS ROM on an IBM PC compatible computer.'], 'bios': ['It is sometimes called \"firmware\" when the software is stored in hardware that can not be easily modified, such as with a BIOS ROM on an IBM PC compatible computer.'], 'windows': ['The original name of Windows was Interface Manager.'], 'interface manager': ['The original name of Windows was Interface Manager.'], 'alu': ['The set of arithmetic operations supported by a specific ALU may be restricted to addition and subtraction or may include functions of multiplication, division, trigonometries such as sine, cosine, etc., and square roots.', 'There are four main components of a general-purpose computer: the arithmetic logic unit (ALU), the control unit, the memory, and the I/O (collectively called input and output) devices.', 'The ALU, control unit and registers and together called the CPU.'], 'minicomputers': ['Minicomputers are also referred to as \"Midrange Computers.\"'], 'latin': ['The word \"computer\" derives from the word \"computare\" in Latin, which means calculating.'], 'cpu': ['We send instructions to the CPU whenever we press a key, click the mouse, or start an application.', 'The ALU, control unit and registers and together called the CPU.', 'For a CPU, it uses a microprocessor.'], 'ms office': ['Microcomputers are generally designed and built for general use, such as browsing, information search, the internet, MS Office, social media, etc.'], 'midrange computers': ['Minicomputers are also referred to as \"Midrange Computers.\"'], 'software': ['In contrast to the physical hardware from which the system is built, the software is that portion of a computer system consisting of encoded information or computer instructions.', 'It is sometimes called \"firmware\" when the software is stored in hardware that can not be easily modified, such as with a BIOS ROM on an IBM PC compatible computer.', 'Computer hardware and software require each other, and neither of them can be realistically used on their own.', 'Software refers to computer parts, such as programs, data, protocols, etc., that do not have a material form.'], 'pdas': ['Laptops, desktop computers, personal digital assistants (PDAs), tablets, and smartphones are common examples of microcomputers.'], 'ram': ['The hardware includes circuits, computer chips, graphics cards, sound cards, memory (RAM), motherboards, displays, power supplies, cables, keyboards, printers and \"mice\" input devices.'], 'fun facts': ['Fun Facts About Computers\\nThe first electric computer that was invented weighed around 27 tons or even more than that and took up to 1800 square feet.'], 'industrial revolution': ['Some mechanical devices were built early in the Industrial Revolution to automate long, tedious tasks, such as guiding patterns for looms.']}\n"
     ]
    }
   ],
   "source": [
    "def mapSents(impWords, sents):\n",
    "    # Using keyword processor as our processor for this task\n",
    "    processor = KeywordProcessor()\n",
    "    keySents = {}\n",
    "    for word in impWords:\n",
    "        keySents[word] = []\n",
    "        processor.add_keyword(word)  # Adds key word to the processor\n",
    "    for sent in sents:\n",
    "        # Extract the keywords in the sentence\n",
    "        found = processor.extract_keywords(sent)\n",
    "        for each in found:\n",
    "            # For each keyword found, map the sentence to the keyword\n",
    "            keySents[each].append(sent)\n",
    "    for key in keySents.keys():\n",
    "        temp = keySents[key]\n",
    "        # Sort the sentences according to their decreasing length in order to ensure the quality of question for the MCQ\n",
    "        temp = sorted(temp, key=len, reverse=True)\n",
    "        keySents[key] = temp\n",
    "    return keySents\n",
    "\n",
    "\n",
    "# Achieve the sentences that contain the keywords and map those sentences to the keywords using this function\n",
    "mappedSents = mapSents(impWords, sents)\n",
    "print(mappedSents)\n"
   ]
  },
  {
   "cell_type": "markdown",
   "metadata": {},
   "source": [
    "### <a id='toc2_1_4_'></a>[Get the sense of the word](#toc0_)"
   ]
  },
  {
   "cell_type": "code",
   "execution_count": 74,
   "metadata": {},
   "outputs": [],
   "source": [
    "def getWordSense(sent, word):\n",
    "    word = word.lower()\n",
    "    if len(word.split()) > 0:  # Splits the word with underscores(_) instead of spaces if there are multiple words\n",
    "        word = word.replace(\" \", \"_\")\n",
    "    synsets = wn.synsets(word, 'n')  # Sysnets from Google are invoked\n",
    "    if synsets:\n",
    "        wup = max_similarity(sent, word, 'wup', pos='n')\n",
    "        adapted_lesk_output = adapted_lesk(sent, word, pos='n')\n",
    "        lowest_index = min(synsets.index(\n",
    "            wup), synsets.index(adapted_lesk_output))\n",
    "        return synsets[lowest_index]\n",
    "    else:\n",
    "        return None"
   ]
  },
  {
   "cell_type": "markdown",
   "metadata": {},
   "source": [
    "### <a id='toc2_1_5_'></a>[first distractor generate from WordNet](#toc0_)"
   ]
  },
  {
   "cell_type": "code",
   "execution_count": 75,
   "metadata": {},
   "outputs": [],
   "source": [
    "def getDistractors(syn,word):\n",
    "    dists=[]\n",
    "    word=word.lower()\n",
    "    actword=word\n",
    "    if len(word.split())>0: #Splits the word with underscores(_) instead of spaces if there are multiple words\n",
    "        word.replace(\" \",\"_\")\n",
    "    hypernym = syn.hypernyms() #Gets the hypernyms of the word\n",
    "    if len(hypernym)==0: #If there are no hypernyms for the current word, we simple return the empty list of distractors\n",
    "        return dists\n",
    "    for each in hypernym[0].hyponyms(): #Other wise we find the relevant hyponyms for the hypernyms\n",
    "        name=each.lemmas()[0].name()\n",
    "        if(name==actword):\n",
    "            continue\n",
    "        name=name.replace(\"_\",\" \")\n",
    "        name=\" \".join(w.capitalize() for w in name.split())\n",
    "        if name is not None and name not in dists: #If the word is not already present in the list and is different from he actial word\n",
    "            dists.append(name)\n",
    "    return dists"
   ]
  },
  {
   "cell_type": "markdown",
   "metadata": {},
   "source": [
    "### <a id='toc2_1_6_'></a>[Second distractor generator](#toc0_)"
   ]
  },
  {
   "cell_type": "code",
   "execution_count": 76,
   "metadata": {},
   "outputs": [],
   "source": [
    "def getDistractors2(word):\n",
    "    word=word.lower()\n",
    "    actword=word\n",
    "    if len(word.split())>0: #Splits the word with underscores(_) instead of spaces if there are multiple words\n",
    "        word=word.replace(\" \",\"_\")\n",
    "    dists=[]\n",
    "    url= \"http://api.conceptnet.io/query?node=/c/en/%s/n&rel=/r/PartOf&start=/c/en/%s&limit=5\"%(word,word) #To get ditractors from ConceptNet's API\n",
    "    obj=requests.get(url).json()\n",
    "    for edge in obj['edges']:\n",
    "        link=edge['end']['term']\n",
    "        url2=\"http://api.conceptnet.io/query?node=%s&rel=/r/PartOf&end=%s&limit=10\"%(link,link)\n",
    "        obj2=requests.get(url2).json()\n",
    "        for edge in obj2['edges']:\n",
    "            word2=edge['start']['label']\n",
    "            if word2 not in dists and actword.lower() not in word2.lower(): #If the word is not already present in the list and is different from he actial word\n",
    "                dists.append(word2)\n",
    "    return dists"
   ]
  },
  {
   "cell_type": "markdown",
   "metadata": {},
   "source": [
    "### <a id='toc2_1_7_'></a>[Find and map the distractors to the keywords](#toc0_)"
   ]
  },
  {
   "cell_type": "code",
   "execution_count": 77,
   "metadata": {},
   "outputs": [
    {
     "name": "stdout",
     "output_type": "stream",
     "text": [
      "{'computer': ['Assembly', 'Bagger', 'Calculator', 'Calender', 'Cash Machine', 'Comber', 'Concrete Mixer', 'Corker', 'Cotton Gin', 'Decoder', 'Farm Machine', 'Franking Machine', 'Hop-picker', 'Machine Tool', 'Machinery', 'Milking Machine', 'Motor', 'Pavior', 'Perpetual Motion Machine', 'Pile Driver', 'Power Shovel', 'Power Tool', 'Press', 'Printer', 'Record Player', 'Riveting Machine', 'Self-feeder', 'Simulator', 'Slicer', 'Slot Machine', 'Snow Thrower', 'Sorter', 'Stamp', 'Staple Gun', 'Stapler', 'Textile Machine', 'Time Machine', 'Trimmer', 'Workhorse', 'Zamboni'], 'windows': ['Windowpane'], 'minicomputers': ['Bulletin Board System', 'File Server', 'Mainframe', 'Minicomputer', 'Multiprocessor', 'Personal Computer', 'Von Neumann Machine', 'Workstation'], 'latin': ['Abator', 'Abjurer', 'Abomination', 'Abstainer', 'Achiever', 'Acquaintance', 'Acquirer', 'Active', 'Actor', 'Adjudicator', 'Admirer', 'Adoptee', 'Adult', 'Adventurer', 'Adversary', 'Advisee', 'Advocate', 'Affiant', 'African', 'Agnostic', 'Amateur', 'Amerindian', 'Ancient', 'Anomaly', 'Anti-american', 'Anti', 'Applicant', 'Appointee', 'Appreciator', 'Apprehender', 'Aquarius', 'Archaist', 'Aries', 'Arrogator', 'Assessee', 'Asthmatic', 'Authority', 'Autodidact', 'Baby Boomer', 'Baby Buster', 'Bad Guy', 'Bad Person', 'Baldhead', 'Balker', 'Bather', 'Beard', 'Bedfellow', 'Bereaved', 'Best', 'Birth', 'Biter', 'Black', 'Blogger', 'Blond', 'Bluecoat', 'Bodybuilder', 'Bomber', 'Brunet', 'Bullfighter', 'Buster', 'Cancer', 'Candidate', 'Capitalist', 'Capricorn', 'Captor', 'Case', 'Cashier', 'Celebrant', 'Censor', 'Chameleon', 'Changer', 'Charmer', 'Child', 'Chutzpanik', 'Closer', 'Clumsy Person', 'Collector', 'Color-blind Person', 'Combatant', 'Commoner', 'Communicator', 'Complexifier', 'Compulsive', 'Computer User', 'Contemplative', 'Contestant', 'Convert', 'Copycat', 'Counter', 'Counterterrorist', 'Coward', 'Crawler', 'Creator', 'Creature', 'Creditor', 'Cripple', 'Dancer', 'Dead Person', 'Deaf Person', 'Debaser', 'Debtor', 'Defecator', 'Delayer', 'Deliverer', 'Demander', 'Dieter', 'Differentiator', 'Disentangler', 'Disputant', 'Dissenter', 'Divider', 'Domestic Partner', 'Double', 'Dresser', 'Dribbler', 'Drug User', 'Dyslectic', 'Ectomorph', 'Effecter', 'Elizabethan', 'Emotional Person', 'Endomorph', 'Engineer', 'Enjoyer', 'Enrollee', 'Entertainer', 'Ethnic', 'Experimenter', 'Expert', 'Explorer', 'Extrovert', 'Face', 'Faddist', 'Faller', 'Fastener', 'Female', 'Fiduciary', 'First-rater', 'Follower', 'Free Agent', 'Friend', 'Fugitive', 'Gainer', 'Gambler', 'Gatekeeper', 'Gatherer', 'Gemini', 'Gentile', 'Good Guy', 'Good Person', 'Granter', 'Greeter', 'Grinner', 'Groaner', 'Grunter', 'Guesser', 'Handicapped Person', 'Hater', 'Heterosexual', 'Homosexual', 'Homunculus', 'Hope', 'Hoper', 'Huddler', 'Hugger', 'Immune', 'Individualist', 'Inhabitant', 'Innocent', 'Insured', 'Intellectual', 'Interpreter', 'Introvert', 'Jat', 'Jew', 'Jewel', 'Jumper', 'Junior', 'Juvenile', 'Killer', 'Kink', 'Kneeler', 'Knocker', 'Knower', 'Large Person', 'Latin', 'Laugher', 'Leader', 'Learner', 'Left-hander', 'Leo', 'Libra', 'Life', 'Lightning Rod', 'Linguist', 'Literate', 'Liver', 'Longer', 'Loose Cannon', 'Loved One', 'Lover', 'Machine', 'Mailer', 'Malcontent', 'Male', 'Man', 'Man Jack', 'Manipulator', 'Married', 'Masturbator', 'Measurer', 'Mesomorph', 'Mestizo', 'Middlebrow', 'Miracle Man', 'Misogamist', 'Mixed-blood', 'Modern', 'Money Handler', 'Monolingual', 'Mother Hen', 'Mouse', 'Mutilator', 'Namer', 'Namesake', 'National', 'Native', 'Neglecter', 'Neighbor', 'Neutral', 'Nondescript', 'Nonmember', 'Nonparticipant', 'Nonpartisan', 'Nonperson', 'Nonreligious Person', 'Nonresident', 'Nonsmoker', 'Nonworker', 'Nude', 'Nurser', 'Occultist', 'Optimist', 'Orphan', 'Ostrich', 'Ouster', 'Outcaste', 'Outdoorsman', 'Owner', 'Pamperer', 'Pansexual', 'Pardoner', 'Partner', 'Party', 'Passer', 'Peer', 'Perceiver', 'Percher', 'Person Of Color', 'Personage', 'Personification', 'Perspirer', 'Philosopher', 'Picker', 'Pisces', 'Pisser', 'Planner', 'Player', 'Posturer', 'Powderer', 'Precursor', 'Preserver', 'Primitive', 'Propositus', 'Public Relations Person', 'Pursuer', 'Pussycat', 'Quarter', 'Quitter', 'Radical', 'Realist', 'Rectifier', 'Redhead', 'Registrant', 'Relative', 'Reliever', 'Religious Person', 'Repeater', 'Rescuer', 'Rester', 'Restrainer', 'Revenant', 'Rich Person', 'Right-hander', 'Riser', 'Romper', 'Roundhead', 'Ruler', 'Rusher', 'Sagittarius', 'Scientist', 'Scorpio', 'Scratcher', 'Second-rater', 'Seeder', 'Seeker', 'Segregate', 'Self', 'Sensualist', 'Sentimentalist', 'Sex Object', 'Sex Symbol', 'Shaker', 'Showman', 'Signer', 'Simpleton', 'Six-footer', 'Skidder', 'Slav', 'Slave', 'Sleepyhead', 'Sloucher', 'Small Person', 'Smasher', 'Smiler', 'Sneezer', 'Sniffer', 'Sniffler', 'Snuffer', 'Snuffler', 'Socializer', 'Sort', 'Sounding Board', 'Sphinx', 'Spitter', 'Sport', 'Sprawler', 'Spurner', 'Squinter', 'Stifler', 'Stigmatic', 'Stooper', 'Stranger', 'Struggler', 'Subject', 'Supernumerary', 'Surrenderer', 'Survivalist', 'Survivor', 'Suspect', 'Tagger', 'Tapper', 'Taurus', 'Tempter', 'Termer', 'Terror', 'Testator', 'Thin Person', 'Third-rater', 'Thrower', 'Tiger', 'Totemist', 'Toucher', 'Transfer', 'Transsexual', 'Transvestite', 'Traveler', 'Trier', 'Turner', 'Tyrant', 'Undoer', 'Unfortunate', 'Unskilled Person', 'Unwelcome Person', 'User', 'Vanisher', 'Victim', 'Victorian', 'Virgo', 'Visionary', 'Visually Impaired Person', 'Waiter', 'Waker', 'Walk-in', 'Wanter', 'Ward', 'Warrior', 'Watcher', 'Weakling', 'Weasel', 'White', 'Wiggler', 'Winker', 'Withholder', 'Witness', 'Worker', 'Worldling', 'Yawner'], 'cpu': ['Amplifier', 'Audio System', 'Cassette Player', 'Cd Player', 'Central Processing Unit', 'Circuitry', 'Detector', 'Equalizer', 'Lens', 'Mixer', 'Modem', 'Monitor', 'Off-line Equipment', 'Oscilloscope', 'Peripheral', 'Playback', 'Radio-phonograph', 'Scrambler', 'Set', 'Tape Deck', 'Tape Player', 'Telephone', 'Television Equipment', 'Terminal'], 'software': ['Address', 'American Standard Code For Information Interchange', 'Binary Code', 'Error Correction Code', 'Firmware', 'Instruction', 'Machine Code', 'Object Code', 'Operation Code'], 'pdas': ['Answering Machine', 'Beeper', 'Defibrillator', 'Display', 'Display Adapter', 'Dongle', 'Doubler', 'Generator', 'Hearing Aid', 'Logic Element', 'Mouse', 'Multiplexer', 'Pacemaker', 'Personal Digital Assistant', 'Readout', 'Repeater', 'Scanner', 'System Clock', 'Trackball', 'Tube'], 'ram': ['Random-access Memory']}\n"
     ]
    }
   ],
   "source": [
    "mappedDists={}\n",
    "for each in mappedSents:\n",
    "    #print('sent',each)\n",
    "    wordsense=getWordSense(mappedSents[each][0],each) #gets the sense of the word\n",
    "    #print('wordsem',wordsense)\n",
    "    if wordsense: #if the wordsense is not null/none\n",
    "        dists=getDistractors(wordsense,each) #Gets the WordNet distractors\n",
    "        if len(dists)==0: #If there are no WordNet distractors available for the current word\n",
    "            dists=getDistractors2(each) #The gets the distractors from the ConceptNet API\n",
    "        if len(dists)!=0: #If there are indeed distractors from WordNet available, then maps them\n",
    "            mappedDists[each]=dists\n",
    "    else: #If there is no wordsense, the directly searches/uses the ConceptNet\n",
    "        dists=getDistractors2(each)\n",
    "        if len(dists)>0: #If it gets the Distractors then maps them\n",
    "            mappedDists[each]=dists\n",
    "print(mappedDists)"
   ]
  },
  {
   "cell_type": "markdown",
   "metadata": {},
   "source": [
    "### <a id='toc2_1_8_'></a>[Show generates MCQ](#toc0_)"
   ]
  },
  {
   "cell_type": "code",
   "execution_count": 79,
   "metadata": {},
   "outputs": [],
   "source": [
    "#Step 9- The final step is to present our MCQ in a nice and readable manner.\n",
    "from contextlib import redirect_stdout\n",
    "\n",
    "with open('out.pdf', 'w') as f:\n",
    "    with redirect_stdout(f):\n",
    "        print(\"**************************************        Multiple Choice Questions        *******************************\")\n",
    "        print()\n",
    "        iterator = 1 #To keep the count of the questions\n",
    "        for each in mappedDists:\n",
    "            sent=mappedSents[each][0]\n",
    "            p=re.compile(each,re.IGNORECASE) #Converts into regular expression for pattern matching\n",
    "            op=p.sub(\"________\",sent) #Replaces the keyword with underscores(blanks)\n",
    "            print(\"Question %s-> \"%(iterator),op) #Prints the question along with a question number\n",
    "            options=[each.capitalize()]+mappedDists[each] #Capitalizes the options\n",
    "            options=options[:4] #Selects only 4 options\n",
    "            opts=['a','b','c','d']\n",
    "            random.shuffle(options) #Shuffle the options so that order is not always same\n",
    "            for i,ch in enumerate(options):\n",
    "                print(\"\\t\",opts[i],\") \", ch) #Print the options\n",
    "            print()\n",
    "            iterator+=1 #Increase the counter"
   ]
  },
  {
   "cell_type": "code",
   "execution_count": 81,
   "metadata": {},
   "outputs": [
    {
     "name": "stderr",
     "output_type": "stream",
     "text": [
      "WARNING: Ignoring invalid distribution -rkupsafe (c:\\programdata\\anaconda3\\lib\\site-packages)\n",
      "WARNING: Ignoring invalid distribution -ikit-learn (c:\\programdata\\anaconda3\\lib\\site-packages)\n",
      "WARNING: Ignoring invalid distribution -rkupsafe (c:\\programdata\\anaconda3\\lib\\site-packages)\n"
     ]
    },
    {
     "name": "stdout",
     "output_type": "stream",
     "text": [
      "Collecting fpdf\n",
      "  Downloading fpdf-1.7.2.tar.gz (39 kB)\n",
      "Building wheels for collected packages: fpdf\n",
      "  Building wheel for fpdf (setup.py): started\n",
      "  Building wheel for fpdf (setup.py): finished with status 'done'\n",
      "  Created wheel for fpdf: filename=fpdf-1.7.2-py2.py3-none-any.whl size=40722 sha256=b52cb03f3add2426a8ab13d8308865a1e08ef3106e9e6b620e7df1adb2f70cbb\n",
      "  Stored in directory: c:\\users\\raikibul hasan\\appdata\\local\\pip\\cache\\wheels\\44\\35\\8b\\86ce00cec7e4d13c5f189680ae0fa82f919bedc066c2cddae9\n",
      "Successfully built fpdf\n",
      "Installing collected packages: fpdf\n",
      "Successfully installed fpdf-1.7.2\n"
     ]
    },
    {
     "name": "stderr",
     "output_type": "stream",
     "text": [
      "WARNING: Ignoring invalid distribution -ikit-learn (c:\\programdata\\anaconda3\\lib\\site-packages)\n",
      "WARNING: Ignoring invalid distribution - (c:\\programdata\\anaconda3\\lib\\site-packages)\n",
      "WARNING: Ignoring invalid distribution -etworkx (c:\\programdata\\anaconda3\\lib\\site-packages)\n",
      "WARNING: Ignoring invalid distribution -cikit-learn (c:\\programdata\\anaconda3\\lib\\site-packages)\n",
      "WARNING: Ignoring invalid distribution -arkupsafe (c:\\programdata\\anaconda3\\lib\\site-packages)\n",
      "WARNING: Ignoring invalid distribution -rkupsafe (c:\\programdata\\anaconda3\\lib\\site-packages)\n",
      "WARNING: Ignoring invalid distribution -ikit-learn (c:\\programdata\\anaconda3\\lib\\site-packages)\n",
      "WARNING: Ignoring invalid distribution -rkupsafe (c:\\programdata\\anaconda3\\lib\\site-packages)\n",
      "WARNING: Ignoring invalid distribution -ikit-learn (c:\\programdata\\anaconda3\\lib\\site-packages)\n",
      "WARNING: Ignoring invalid distribution - (c:\\programdata\\anaconda3\\lib\\site-packages)\n",
      "WARNING: Ignoring invalid distribution -etworkx (c:\\programdata\\anaconda3\\lib\\site-packages)\n",
      "WARNING: Ignoring invalid distribution -cikit-learn (c:\\programdata\\anaconda3\\lib\\site-packages)\n",
      "WARNING: Ignoring invalid distribution -arkupsafe (c:\\programdata\\anaconda3\\lib\\site-packages)\n",
      "WARNING: Ignoring invalid distribution -rkupsafe (c:\\programdata\\anaconda3\\lib\\site-packages)\n",
      "WARNING: Ignoring invalid distribution -ikit-learn (c:\\programdata\\anaconda3\\lib\\site-packages)\n",
      "WARNING: Ignoring invalid distribution -rkupsafe (c:\\programdata\\anaconda3\\lib\\site-packages)\n",
      "WARNING: Ignoring invalid distribution -ikit-learn (c:\\programdata\\anaconda3\\lib\\site-packages)\n",
      "WARNING: Ignoring invalid distribution - (c:\\programdata\\anaconda3\\lib\\site-packages)\n",
      "WARNING: Ignoring invalid distribution -etworkx (c:\\programdata\\anaconda3\\lib\\site-packages)\n",
      "WARNING: Ignoring invalid distribution -cikit-learn (c:\\programdata\\anaconda3\\lib\\site-packages)\n",
      "WARNING: Ignoring invalid distribution -arkupsafe (c:\\programdata\\anaconda3\\lib\\site-packages)\n",
      "WARNING: Ignoring invalid distribution -rkupsafe (c:\\programdata\\anaconda3\\lib\\site-packages)\n",
      "WARNING: Ignoring invalid distribution -ikit-learn (c:\\programdata\\anaconda3\\lib\\site-packages)\n",
      "WARNING: Ignoring invalid distribution -rkupsafe (c:\\programdata\\anaconda3\\lib\\site-packages)\n",
      "WARNING: Ignoring invalid distribution -ikit-learn (c:\\programdata\\anaconda3\\lib\\site-packages)\n",
      "WARNING: Ignoring invalid distribution - (c:\\programdata\\anaconda3\\lib\\site-packages)\n",
      "WARNING: Ignoring invalid distribution -etworkx (c:\\programdata\\anaconda3\\lib\\site-packages)\n",
      "WARNING: Ignoring invalid distribution -cikit-learn (c:\\programdata\\anaconda3\\lib\\site-packages)\n",
      "WARNING: Ignoring invalid distribution -arkupsafe (c:\\programdata\\anaconda3\\lib\\site-packages)\n",
      "WARNING: Ignoring invalid distribution -rkupsafe (c:\\programdata\\anaconda3\\lib\\site-packages)\n",
      "WARNING: Ignoring invalid distribution -ikit-learn (c:\\programdata\\anaconda3\\lib\\site-packages)\n",
      "WARNING: Ignoring invalid distribution -rkupsafe (c:\\programdata\\anaconda3\\lib\\site-packages)\n",
      "WARNING: Ignoring invalid distribution -ikit-learn (c:\\programdata\\anaconda3\\lib\\site-packages)\n",
      "WARNING: Ignoring invalid distribution - (c:\\programdata\\anaconda3\\lib\\site-packages)\n",
      "WARNING: Ignoring invalid distribution -etworkx (c:\\programdata\\anaconda3\\lib\\site-packages)\n",
      "WARNING: Ignoring invalid distribution -cikit-learn (c:\\programdata\\anaconda3\\lib\\site-packages)\n",
      "WARNING: Ignoring invalid distribution -arkupsafe (c:\\programdata\\anaconda3\\lib\\site-packages)\n",
      "WARNING: Ignoring invalid distribution -rkupsafe (c:\\programdata\\anaconda3\\lib\\site-packages)\n",
      "WARNING: Ignoring invalid distribution -ikit-learn (c:\\programdata\\anaconda3\\lib\\site-packages)\n",
      "WARNING: Ignoring invalid distribution -rkupsafe (c:\\programdata\\anaconda3\\lib\\site-packages)\n",
      "WARNING: Ignoring invalid distribution -ikit-learn (c:\\programdata\\anaconda3\\lib\\site-packages)\n",
      "WARNING: Ignoring invalid distribution - (c:\\programdata\\anaconda3\\lib\\site-packages)\n",
      "WARNING: Ignoring invalid distribution -etworkx (c:\\programdata\\anaconda3\\lib\\site-packages)\n",
      "WARNING: Ignoring invalid distribution -cikit-learn (c:\\programdata\\anaconda3\\lib\\site-packages)\n",
      "WARNING: Ignoring invalid distribution -arkupsafe (c:\\programdata\\anaconda3\\lib\\site-packages)\n",
      "WARNING: Ignoring invalid distribution -rkupsafe (c:\\programdata\\anaconda3\\lib\\site-packages)\n",
      "WARNING: Ignoring invalid distribution -ikit-learn (c:\\programdata\\anaconda3\\lib\\site-packages)\n",
      "WARNING: Ignoring invalid distribution -rkupsafe (c:\\programdata\\anaconda3\\lib\\site-packages)\n",
      "WARNING: Ignoring invalid distribution -ikit-learn (c:\\programdata\\anaconda3\\lib\\site-packages)\n",
      "WARNING: Ignoring invalid distribution - (c:\\programdata\\anaconda3\\lib\\site-packages)\n",
      "WARNING: Ignoring invalid distribution -etworkx (c:\\programdata\\anaconda3\\lib\\site-packages)\n",
      "WARNING: Ignoring invalid distribution -cikit-learn (c:\\programdata\\anaconda3\\lib\\site-packages)\n",
      "WARNING: Ignoring invalid distribution -arkupsafe (c:\\programdata\\anaconda3\\lib\\site-packages)\n"
     ]
    }
   ],
   "source": [
    "!pip install fpdf"
   ]
  },
  {
   "cell_type": "code",
   "execution_count": 83,
   "metadata": {},
   "outputs": [
    {
     "data": {
      "text/plain": [
       "''"
      ]
     },
     "execution_count": 83,
     "metadata": {},
     "output_type": "execute_result"
    }
   ],
   "source": [
    "from fpdf import FPDF\n",
    "  \n",
    "# save FPDF() class into\n",
    "# a variable pdf\n",
    "pdf = FPDF()  \n",
    "  \n",
    "# Add a page\n",
    "pdf.add_page()\n",
    "  \n",
    "# set style and size of font\n",
    "# that you want in the pdf\n",
    "pdf.set_font(\"Arial\", size = 8)\n",
    " \n",
    "# open the text file in read mode\n",
    "f = open(\"out.txt\", \"r\")\n",
    " \n",
    "# insert the texts in pdf\n",
    "for x in f:\n",
    "    pdf.cell(200, 10, txt = x, ln = 1, align = 'L')\n",
    "  \n",
    "# save the pdf with name .pdf\n",
    "pdf.output(\"mygfg.pdf\") "
   ]
  }
 ],
 "metadata": {
  "kernelspec": {
   "display_name": "base",
   "language": "python",
   "name": "python3"
  },
  "language_info": {
   "codemirror_mode": {
    "name": "ipython",
    "version": 3
   },
   "file_extension": ".py",
   "mimetype": "text/x-python",
   "name": "python",
   "nbconvert_exporter": "python",
   "pygments_lexer": "ipython3",
   "version": "3.9.7"
  },
  "orig_nbformat": 4,
  "vscode": {
   "interpreter": {
    "hash": "ad2bdc8ecc057115af97d19610ffacc2b4e99fae6737bb82f5d7fb13d2f2c186"
   }
  }
 },
 "nbformat": 4,
 "nbformat_minor": 2
}
